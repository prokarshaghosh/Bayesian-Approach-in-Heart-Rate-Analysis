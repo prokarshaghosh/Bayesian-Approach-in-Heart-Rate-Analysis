{
 "cells": [
  {
   "cell_type": "code",
   "execution_count": 1,
   "id": "4af2420a",
   "metadata": {
    "id": "4af2420a"
   },
   "outputs": [],
   "source": [
    "import pandas as pd\n",
    "import matplotlib.pyplot as plt\n",
    "import seaborn as sns"
   ]
  },
  {
   "cell_type": "code",
   "execution_count": 2,
   "id": "95ade267",
   "metadata": {
    "id": "95ade267"
   },
   "outputs": [],
   "source": [
    "import warnings\n",
    "# To ignore all warnings:\n",
    "warnings.filterwarnings(\"ignore\")"
   ]
  },
  {
   "cell_type": "markdown",
   "id": "4137ab69",
   "metadata": {
    "id": "4137ab69"
   },
   "source": [
    "# Load the dataset"
   ]
  },
  {
   "cell_type": "code",
   "execution_count": 3,
   "id": "b0a55499",
   "metadata": {
    "colab": {
     "base_uri": "https://localhost:8080/",
     "height": 73
    },
    "id": "b0a55499",
    "outputId": "897757d0-fea0-454c-e066-0dd205fe9faf"
   },
   "outputs": [
    {
     "data": {
      "text/html": [
       "\n",
       "     <input type=\"file\" id=\"files-95a42de0-9f96-4e2b-9818-f1fa7b0b51fd\" name=\"files[]\" multiple disabled\n",
       "        style=\"border:none\" />\n",
       "     <output id=\"result-95a42de0-9f96-4e2b-9818-f1fa7b0b51fd\">\n",
       "      Upload widget is only available when the cell has been executed in the\n",
       "      current browser session. Please rerun this cell to enable.\n",
       "      </output>\n",
       "      <script>// Copyright 2017 Google LLC\n",
       "//\n",
       "// Licensed under the Apache License, Version 2.0 (the \"License\");\n",
       "// you may not use this file except in compliance with the License.\n",
       "// You may obtain a copy of the License at\n",
       "//\n",
       "//      http://www.apache.org/licenses/LICENSE-2.0\n",
       "//\n",
       "// Unless required by applicable law or agreed to in writing, software\n",
       "// distributed under the License is distributed on an \"AS IS\" BASIS,\n",
       "// WITHOUT WARRANTIES OR CONDITIONS OF ANY KIND, either express or implied.\n",
       "// See the License for the specific language governing permissions and\n",
       "// limitations under the License.\n",
       "\n",
       "/**\n",
       " * @fileoverview Helpers for google.colab Python module.\n",
       " */\n",
       "(function(scope) {\n",
       "function span(text, styleAttributes = {}) {\n",
       "  const element = document.createElement('span');\n",
       "  element.textContent = text;\n",
       "  for (const key of Object.keys(styleAttributes)) {\n",
       "    element.style[key] = styleAttributes[key];\n",
       "  }\n",
       "  return element;\n",
       "}\n",
       "\n",
       "// Max number of bytes which will be uploaded at a time.\n",
       "const MAX_PAYLOAD_SIZE = 100 * 1024;\n",
       "\n",
       "function _uploadFiles(inputId, outputId) {\n",
       "  const steps = uploadFilesStep(inputId, outputId);\n",
       "  const outputElement = document.getElementById(outputId);\n",
       "  // Cache steps on the outputElement to make it available for the next call\n",
       "  // to uploadFilesContinue from Python.\n",
       "  outputElement.steps = steps;\n",
       "\n",
       "  return _uploadFilesContinue(outputId);\n",
       "}\n",
       "\n",
       "// This is roughly an async generator (not supported in the browser yet),\n",
       "// where there are multiple asynchronous steps and the Python side is going\n",
       "// to poll for completion of each step.\n",
       "// This uses a Promise to block the python side on completion of each step,\n",
       "// then passes the result of the previous step as the input to the next step.\n",
       "function _uploadFilesContinue(outputId) {\n",
       "  const outputElement = document.getElementById(outputId);\n",
       "  const steps = outputElement.steps;\n",
       "\n",
       "  const next = steps.next(outputElement.lastPromiseValue);\n",
       "  return Promise.resolve(next.value.promise).then((value) => {\n",
       "    // Cache the last promise value to make it available to the next\n",
       "    // step of the generator.\n",
       "    outputElement.lastPromiseValue = value;\n",
       "    return next.value.response;\n",
       "  });\n",
       "}\n",
       "\n",
       "/**\n",
       " * Generator function which is called between each async step of the upload\n",
       " * process.\n",
       " * @param {string} inputId Element ID of the input file picker element.\n",
       " * @param {string} outputId Element ID of the output display.\n",
       " * @return {!Iterable<!Object>} Iterable of next steps.\n",
       " */\n",
       "function* uploadFilesStep(inputId, outputId) {\n",
       "  const inputElement = document.getElementById(inputId);\n",
       "  inputElement.disabled = false;\n",
       "\n",
       "  const outputElement = document.getElementById(outputId);\n",
       "  outputElement.innerHTML = '';\n",
       "\n",
       "  const pickedPromise = new Promise((resolve) => {\n",
       "    inputElement.addEventListener('change', (e) => {\n",
       "      resolve(e.target.files);\n",
       "    });\n",
       "  });\n",
       "\n",
       "  const cancel = document.createElement('button');\n",
       "  inputElement.parentElement.appendChild(cancel);\n",
       "  cancel.textContent = 'Cancel upload';\n",
       "  const cancelPromise = new Promise((resolve) => {\n",
       "    cancel.onclick = () => {\n",
       "      resolve(null);\n",
       "    };\n",
       "  });\n",
       "\n",
       "  // Wait for the user to pick the files.\n",
       "  const files = yield {\n",
       "    promise: Promise.race([pickedPromise, cancelPromise]),\n",
       "    response: {\n",
       "      action: 'starting',\n",
       "    }\n",
       "  };\n",
       "\n",
       "  cancel.remove();\n",
       "\n",
       "  // Disable the input element since further picks are not allowed.\n",
       "  inputElement.disabled = true;\n",
       "\n",
       "  if (!files) {\n",
       "    return {\n",
       "      response: {\n",
       "        action: 'complete',\n",
       "      }\n",
       "    };\n",
       "  }\n",
       "\n",
       "  for (const file of files) {\n",
       "    const li = document.createElement('li');\n",
       "    li.append(span(file.name, {fontWeight: 'bold'}));\n",
       "    li.append(span(\n",
       "        `(${file.type || 'n/a'}) - ${file.size} bytes, ` +\n",
       "        `last modified: ${\n",
       "            file.lastModifiedDate ? file.lastModifiedDate.toLocaleDateString() :\n",
       "                                    'n/a'} - `));\n",
       "    const percent = span('0% done');\n",
       "    li.appendChild(percent);\n",
       "\n",
       "    outputElement.appendChild(li);\n",
       "\n",
       "    const fileDataPromise = new Promise((resolve) => {\n",
       "      const reader = new FileReader();\n",
       "      reader.onload = (e) => {\n",
       "        resolve(e.target.result);\n",
       "      };\n",
       "      reader.readAsArrayBuffer(file);\n",
       "    });\n",
       "    // Wait for the data to be ready.\n",
       "    let fileData = yield {\n",
       "      promise: fileDataPromise,\n",
       "      response: {\n",
       "        action: 'continue',\n",
       "      }\n",
       "    };\n",
       "\n",
       "    // Use a chunked sending to avoid message size limits. See b/62115660.\n",
       "    let position = 0;\n",
       "    do {\n",
       "      const length = Math.min(fileData.byteLength - position, MAX_PAYLOAD_SIZE);\n",
       "      const chunk = new Uint8Array(fileData, position, length);\n",
       "      position += length;\n",
       "\n",
       "      const base64 = btoa(String.fromCharCode.apply(null, chunk));\n",
       "      yield {\n",
       "        response: {\n",
       "          action: 'append',\n",
       "          file: file.name,\n",
       "          data: base64,\n",
       "        },\n",
       "      };\n",
       "\n",
       "      let percentDone = fileData.byteLength === 0 ?\n",
       "          100 :\n",
       "          Math.round((position / fileData.byteLength) * 100);\n",
       "      percent.textContent = `${percentDone}% done`;\n",
       "\n",
       "    } while (position < fileData.byteLength);\n",
       "  }\n",
       "\n",
       "  // All done.\n",
       "  yield {\n",
       "    response: {\n",
       "      action: 'complete',\n",
       "    }\n",
       "  };\n",
       "}\n",
       "\n",
       "scope.google = scope.google || {};\n",
       "scope.google.colab = scope.google.colab || {};\n",
       "scope.google.colab._files = {\n",
       "  _uploadFiles,\n",
       "  _uploadFilesContinue,\n",
       "};\n",
       "})(self);\n",
       "</script> "
      ],
      "text/plain": [
       "<IPython.core.display.HTML object>"
      ]
     },
     "metadata": {},
     "output_type": "display_data"
    },
    {
     "name": "stdout",
     "output_type": "stream",
     "text": [
      "Saving Hear Rate Failure.csv to Hear Rate Failure.csv\n"
     ]
    }
   ],
   "source": [
    "# Load the dataset\n",
    "from google.colab import files\n",
    "\n",
    "uploaded = files.upload()\n"
   ]
  },
  {
   "cell_type": "code",
   "execution_count": 4,
   "id": "hZo-ZN4VpNec",
   "metadata": {
    "id": "hZo-ZN4VpNec"
   },
   "outputs": [],
   "source": [
    "df = pd.read_csv(r'Hear Rate Failure.csv')"
   ]
  },
  {
   "cell_type": "markdown",
   "id": "b97062ca",
   "metadata": {
    "id": "b97062ca"
   },
   "source": [
    "## Dataset information"
   ]
  },
  {
   "cell_type": "code",
   "execution_count": 5,
   "id": "b5f9ced3",
   "metadata": {
    "colab": {
     "base_uri": "https://localhost:8080/"
    },
    "id": "b5f9ced3",
    "outputId": "e104f072-f849-49df-ed72-421d693ba460"
   },
   "outputs": [
    {
     "name": "stdout",
     "output_type": "stream",
     "text": [
      "<class 'pandas.core.frame.DataFrame'>\n",
      "RangeIndex: 368 entries, 0 to 367\n",
      "Data columns (total 60 columns):\n",
      " #   Column                                                                                    Non-Null Count  Dtype  \n",
      "---  ------                                                                                    --------------  -----  \n",
      " 0   Age                                                                                       368 non-null    int64  \n",
      " 1   Age.Group                                                                                 368 non-null    object \n",
      " 2   Gender                                                                                    368 non-null    object \n",
      " 3   Locality                                                                                  368 non-null    object \n",
      " 4   Marital status                                                                            368 non-null    object \n",
      " 5   Life.Style                                                                                368 non-null    object \n",
      " 6   Sleep                                                                                     368 non-null    object \n",
      " 7   Category                                                                                  368 non-null    object \n",
      " 8   Depression                                                                                368 non-null    object \n",
      " 9   Hyperlipi                                                                                 368 non-null    object \n",
      " 10  Smoking                                                                                   368 non-null    object \n",
      " 11  Family.History                                                                            368 non-null    object \n",
      " 12  F.History                                                                                 368 non-null    int64  \n",
      " 13  Diabetes                                                                                  368 non-null    int64  \n",
      " 14  HTN                                                                                       368 non-null    object \n",
      " 15  Allergies                                                                                 368 non-null    object \n",
      " 16  BP                                                                                        368 non-null    float64\n",
      " 17  Thrombolysis                                                                              368 non-null    int64  \n",
      " 18  BGR                                                                                       368 non-null    int64  \n",
      " 19  B.Urea                                                                                    368 non-null    float64\n",
      " 20  S.Cr                                                                                      368 non-null    float64\n",
      " 21  S.Sodium                                                                                  368 non-null    int64  \n",
      " 22  S.Potassium                                                                               368 non-null    float64\n",
      " 23  S.Chloride                                                                                368 non-null    int64  \n",
      " 24  C.P.K                                                                                     368 non-null    int64  \n",
      " 25  CK.MB                                                                                     368 non-null    int64  \n",
      " 26  ESR                                                                                       368 non-null    int64  \n",
      " 27  WBC                                                                                       368 non-null    int64  \n",
      " 28  RBC                                                                                       368 non-null    float64\n",
      " 29  Hemoglobin                                                                                368 non-null    float64\n",
      " 30  P.C.V                                                                                     368 non-null    float64\n",
      " 31  M.C.V                                                                                     368 non-null    float64\n",
      " 32  M.C.H                                                                                     368 non-null    float64\n",
      " 33  M.C.H.C                                                                                   368 non-null    float64\n",
      " 34  PLATELET_COUNT                                                                            368 non-null    int64  \n",
      " 35  NEUTROPHIL                                                                                368 non-null    float64\n",
      " 36  LYMPHO                                                                                    368 non-null    float64\n",
      " 37  MONOCYTE                                                                                  368 non-null    float64\n",
      " 38  EOSINO                                                                                    368 non-null    int64  \n",
      " 39  Others                                                                                    368 non-null    object \n",
      " 40  CO                                                                                        368 non-null    object \n",
      " 41  Diagnosis                                                                                 368 non-null    object \n",
      " 42  Hypersensitivity                                                                          368 non-null    object \n",
      " 43  cp                                                                                        368 non-null    int64  \n",
      " 44  trestbps                                                                                  368 non-null    int64  \n",
      " 45  chol                                                                                      368 non-null    int64  \n",
      " 46  fbs                                                                                       368 non-null    int64  \n",
      " 47  restecg                                                                                   368 non-null    int64  \n",
      " 48  thalach                                                                                   368 non-null    int64  \n",
      " 49  exang                                                                                     368 non-null    int64  \n",
      " 50  oldpeak                                                                                   368 non-null    float64\n",
      " 51  slope                                                                                     368 non-null    int64  \n",
      " 52  ca                                                                                        368 non-null    int64  \n",
      " 53  thal                                                                                      368 non-null    int64  \n",
      " 54  num                                                                                       368 non-null    int64  \n",
      " 55  SK                                                                                        368 non-null    int64  \n",
      " 56  SK.React                                                                                  368 non-null    object \n",
      " 57  Reaction                                                                                  368 non-null    int64  \n",
      " 58  Mortality                                                                                 368 non-null    int64  \n",
      " 59  Follow.Up                                                                                 368 non-null    int64  \n",
      "dtypes: float64(14), int64(28), object(18)\n",
      "memory usage: 172.6+ KB\n",
      "None\n"
     ]
    }
   ],
   "source": [
    "print(df.info())"
   ]
  },
  {
   "cell_type": "code",
   "execution_count": 6,
   "id": "8239fc26",
   "metadata": {
    "colab": {
     "base_uri": "https://localhost:8080/"
    },
    "id": "8239fc26",
    "outputId": "c9250d54-8a82-407f-ab42-9c4753da2ec7"
   },
   "outputs": [
    {
     "name": "stdout",
     "output_type": "stream",
     "text": [
      "   Age Age.Group  Gender Locality   Marital status                         \\\n",
      "0   45     41-50  Female      RURAL                               MARRIED   \n",
      "1   51     51-60  Female      URBAN                               MARRIED   \n",
      "2   55     51-60  Female      RURAL                               MARRIED   \n",
      "3   55     51-60  Female      RURAL                               MARRIED   \n",
      "4   56     51-60  Female      RURAL                               MARRIED   \n",
      "\n",
      "  Life.Style                                                                                \\\n",
      "0                                                 NO                                         \n",
      "1                                                 NO                                         \n",
      "2                                                YES                                         \n",
      "3                                                YES                                         \n",
      "4                                                YES                                         \n",
      "\n",
      "  Sleep Category Depression Hyperlipi  ... oldpeak slope  ca  thal num SK  \\\n",
      "0    NO     FREE        YES       YES  ...     3.0     2   0     7   2  1   \n",
      "1    NO     FREE        YES       YES  ...     1.2     2   0     7   2  1   \n",
      "2   YES     FREE        YES       YES  ...     3.4     2   0     3   2  1   \n",
      "3   YES     FREE        YES       YES  ...     2.0     2   1     7   3  1   \n",
      "4    NO     FREE        YES       YES  ...     4.0     3   2     7   3  1   \n",
      "\n",
      "   SK.React  Reaction  Mortality  Follow.Up  \n",
      "0        NO         0          0         60  \n",
      "1        NO         0          0         15  \n",
      "2        NO         0          0          6  \n",
      "3        NO         0          0         52  \n",
      "4        NO         0          0         34  \n",
      "\n",
      "[5 rows x 60 columns]\n"
     ]
    }
   ],
   "source": [
    "# Checking first few entries\n",
    "print(df.head())"
   ]
  },
  {
   "cell_type": "code",
   "execution_count": 7,
   "id": "80bf0579",
   "metadata": {
    "colab": {
     "base_uri": "https://localhost:8080/"
    },
    "id": "80bf0579",
    "outputId": "b082c7f1-c722-4424-89c8-0afb1d067545"
   },
   "outputs": [
    {
     "name": "stdout",
     "output_type": "stream",
     "text": [
      "Index(['Age', 'Age.Group', 'Gender', 'Locality  ',\n",
      "       'Marital status                       ',\n",
      "       'Life.Style                                                                              ',\n",
      "       'Sleep', 'Category', 'Depression', 'Hyperlipi', 'Smoking',\n",
      "       'Family.History', 'F.History', 'Diabetes', 'HTN', 'Allergies', 'BP',\n",
      "       'Thrombolysis', 'BGR', 'B.Urea', 'S.Cr', 'S.Sodium', 'S.Potassium',\n",
      "       'S.Chloride', 'C.P.K', 'CK.MB', 'ESR', 'WBC', 'RBC', 'Hemoglobin',\n",
      "       'P.C.V', 'M.C.V', 'M.C.H', 'M.C.H.C', 'PLATELET_COUNT', 'NEUTROPHIL',\n",
      "       'LYMPHO', 'MONOCYTE', 'EOSINO', 'Others ', 'CO', 'Diagnosis',\n",
      "       'Hypersensitivity', 'cp', 'trestbps', 'chol', 'fbs', 'restecg',\n",
      "       'thalach', 'exang', 'oldpeak', 'slope', 'ca', 'thal', 'num', 'SK',\n",
      "       'SK.React', 'Reaction', 'Mortality', 'Follow.Up'],\n",
      "      dtype='object')\n"
     ]
    }
   ],
   "source": [
    "# Check the columns headers\n",
    "print(df.columns)"
   ]
  },
  {
   "cell_type": "markdown",
   "id": "71c923a4",
   "metadata": {
    "id": "71c923a4"
   },
   "source": [
    "## Checking total number of null values"
   ]
  },
  {
   "cell_type": "code",
   "execution_count": 8,
   "id": "62d5e1c7",
   "metadata": {
    "colab": {
     "base_uri": "https://localhost:8080/"
    },
    "id": "62d5e1c7",
    "outputId": "a6a41c9c-e8b0-4096-abbe-81df8cc9ec68"
   },
   "outputs": [
    {
     "name": "stdout",
     "output_type": "stream",
     "text": [
      "Age                                                                                         0\n",
      "Age.Group                                                                                   0\n",
      "Gender                                                                                      0\n",
      "Locality                                                                                    0\n",
      "Marital status                                                                              0\n",
      "Life.Style                                                                                  0\n",
      "Sleep                                                                                       0\n",
      "Category                                                                                    0\n",
      "Depression                                                                                  0\n",
      "Hyperlipi                                                                                   0\n",
      "Smoking                                                                                     0\n",
      "Family.History                                                                              0\n",
      "F.History                                                                                   0\n",
      "Diabetes                                                                                    0\n",
      "HTN                                                                                         0\n",
      "Allergies                                                                                   0\n",
      "BP                                                                                          0\n",
      "Thrombolysis                                                                                0\n",
      "BGR                                                                                         0\n",
      "B.Urea                                                                                      0\n",
      "S.Cr                                                                                        0\n",
      "S.Sodium                                                                                    0\n",
      "S.Potassium                                                                                 0\n",
      "S.Chloride                                                                                  0\n",
      "C.P.K                                                                                       0\n",
      "CK.MB                                                                                       0\n",
      "ESR                                                                                         0\n",
      "WBC                                                                                         0\n",
      "RBC                                                                                         0\n",
      "Hemoglobin                                                                                  0\n",
      "P.C.V                                                                                       0\n",
      "M.C.V                                                                                       0\n",
      "M.C.H                                                                                       0\n",
      "M.C.H.C                                                                                     0\n",
      "PLATELET_COUNT                                                                              0\n",
      "NEUTROPHIL                                                                                  0\n",
      "LYMPHO                                                                                      0\n",
      "MONOCYTE                                                                                    0\n",
      "EOSINO                                                                                      0\n",
      "Others                                                                                      0\n",
      "CO                                                                                          0\n",
      "Diagnosis                                                                                   0\n",
      "Hypersensitivity                                                                            0\n",
      "cp                                                                                          0\n",
      "trestbps                                                                                    0\n",
      "chol                                                                                        0\n",
      "fbs                                                                                         0\n",
      "restecg                                                                                     0\n",
      "thalach                                                                                     0\n",
      "exang                                                                                       0\n",
      "oldpeak                                                                                     0\n",
      "slope                                                                                       0\n",
      "ca                                                                                          0\n",
      "thal                                                                                        0\n",
      "num                                                                                         0\n",
      "SK                                                                                          0\n",
      "SK.React                                                                                    0\n",
      "Reaction                                                                                    0\n",
      "Mortality                                                                                   0\n",
      "Follow.Up                                                                                   0\n",
      "dtype: int64\n"
     ]
    }
   ],
   "source": [
    "# Check for missing values\n",
    "print(df.isnull().sum())"
   ]
  },
  {
   "cell_type": "markdown",
   "id": "8d0eac59",
   "metadata": {
    "id": "8d0eac59"
   },
   "source": [
    "# EDA"
   ]
  },
  {
   "cell_type": "markdown",
   "id": "011c80c9",
   "metadata": {
    "id": "011c80c9"
   },
   "source": [
    "## Summary Statistics"
   ]
  },
  {
   "cell_type": "code",
   "execution_count": 9,
   "id": "4583211f",
   "metadata": {
    "colab": {
     "base_uri": "https://localhost:8080/"
    },
    "id": "4583211f",
    "outputId": "3ab3ee68-e6dd-4106-cb3e-61dbd9e99dc2"
   },
   "outputs": [
    {
     "name": "stdout",
     "output_type": "stream",
     "text": [
      "              Age   F.History    Diabetes          BP  Thrombolysis  \\\n",
      "count  368.000000  368.000000  368.000000  368.000000    368.000000   \n",
      "mean    54.293478    0.195652    0.461957  121.213315      0.032609   \n",
      "std      8.718158    0.397242    0.499229   24.539205      0.177852   \n",
      "min     24.000000    0.000000    0.000000   80.500000      0.000000   \n",
      "25%     50.750000    0.000000    0.000000  100.700000      0.000000   \n",
      "50%     55.000000    0.000000    0.000000  120.800000      0.000000   \n",
      "75%     60.250000    0.000000    1.000000  140.700000      0.000000   \n",
      "max     77.000000    1.000000    1.000000  190.110000      1.000000   \n",
      "\n",
      "              BGR      B.Urea        S.Cr    S.Sodium  S.Potassium  ...  \\\n",
      "count  368.000000  368.000000  368.000000  368.000000   368.000000  ...   \n",
      "mean   219.991848   51.681522    1.716902  138.019022     4.210870  ...   \n",
      "std    139.337387   62.582571    3.609296    4.079879     0.394984  ...   \n",
      "min     60.000000    2.300000    0.600000  129.000000     3.300000  ...   \n",
      "25%    117.000000   28.000000    0.900000  135.000000     3.900000  ...   \n",
      "50%    164.000000   36.000000    0.900000  138.000000     4.200000  ...   \n",
      "75%    291.000000   43.000000    1.100000  141.000000     4.400000  ...   \n",
      "max    563.000000  394.000000   22.900000  146.000000     5.300000  ...   \n",
      "\n",
      "            exang     oldpeak       slope          ca        thal         num  \\\n",
      "count  368.000000  368.000000  368.000000  368.000000  368.000000  368.000000   \n",
      "mean     0.562500    1.541848    1.842391    1.002717    5.858696    2.035326   \n",
      "std      0.496754    1.385381    0.564284    1.037442    1.744319    1.031573   \n",
      "min      0.000000    0.000000    1.000000    0.000000    3.000000    1.000000   \n",
      "25%      0.000000    0.275000    1.750000    0.000000    3.000000    1.000000   \n",
      "50%      1.000000    1.200000    2.000000    1.000000    7.000000    2.000000   \n",
      "75%      1.000000    2.200000    2.000000    2.000000    7.000000    3.000000   \n",
      "max      1.000000    6.200000    3.000000    3.000000    7.000000    4.000000   \n",
      "\n",
      "               SK    Reaction   Mortality   Follow.Up  \n",
      "count  368.000000  368.000000  368.000000  368.000000  \n",
      "mean     0.983696    0.747283    0.217391   28.652174  \n",
      "std      0.126816    0.435162    0.413033   15.811860  \n",
      "min      0.000000    0.000000    0.000000    1.000000  \n",
      "25%      1.000000    0.000000    0.000000   15.000000  \n",
      "50%      1.000000    1.000000    0.000000   32.000000  \n",
      "75%      1.000000    1.000000    0.000000   36.000000  \n",
      "max      1.000000    1.000000    1.000000   60.000000  \n",
      "\n",
      "[8 rows x 42 columns]\n"
     ]
    }
   ],
   "source": [
    "# Summary statistics\n",
    "print(df.describe())"
   ]
  },
  {
   "cell_type": "markdown",
   "id": "29003a0d",
   "metadata": {
    "id": "29003a0d"
   },
   "source": [
    "## Visualization"
   ]
  },
  {
   "cell_type": "code",
   "execution_count": 10,
   "id": "865af976",
   "metadata": {
    "colab": {
     "base_uri": "https://localhost:8080/",
     "height": 564
    },
    "id": "865af976",
    "outputId": "38d8ce6b-a691-4026-e438-7e0e13aaffd7"
   },
   "outputs": [
    {
     "data": {
      "image/png": "[encoded data removed]",
      "text/plain": [
       "<Figure size 800x600 with 1 Axes>"
      ]
     },
     "metadata": {},
     "output_type": "display_data"
    }
   ],
   "source": [
    "# Histogram of Age\n",
    "plt.figure(figsize=(8, 6))\n",
    "sns.histplot(df['Age'], bins=20, kde=True)\n",
    "plt.title('Distribution of Age')\n",
    "plt.xlabel('Age')\n",
    "plt.ylabel('Frequency')\n",
    "plt.show()"
   ]
  },
  {
   "cell_type": "code",
   "execution_count": 11,
   "id": "e07d2aa1",
   "metadata": {
    "colab": {
     "base_uri": "https://localhost:8080/",
     "height": 564
    },
    "id": "e07d2aa1",
    "outputId": "c6199ba7-81eb-4921-8c73-168266d2dda4"
   },
   "outputs": [
    {
     "data": {
      "image/png": "[encoded data removed]",
      "text/plain": [
       "<Figure size 800x600 with 1 Axes>"
      ]
     },
     "metadata": {},
     "output_type": "display_data"
    }
   ],
   "source": [
    "# Boxplot of Blood Pressure (trestbps) by Gender\n",
    "plt.figure(figsize=(8, 6))\n",
    "sns.boxplot(x='Gender', y='trestbps', data=df)\n",
    "plt.title('Blood Pressure Distribution by Gender')\n",
    "plt.xlabel('Gender')\n",
    "plt.ylabel('Blood Pressure (mmHg)')\n",
    "plt.show()"
   ]
  },
  {
   "cell_type": "code",
   "execution_count": 12,
   "id": "4eea03a9",
   "metadata": {
    "colab": {
     "base_uri": "https://localhost:8080/",
     "height": 466
    },
    "id": "4eea03a9",
    "outputId": "671c857e-0810-40e9-8ea6-357e9f4df529"
   },
   "outputs": [
    {
     "data": {
      "text/plain": [
       "<Axes: xlabel='Marital status', ylabel='count'>"
      ]
     },
     "execution_count": 12,
     "metadata": {},
     "output_type": "execute_result"
    },
    {
     "data": {
      "image/png": "[encoded data removed]",
      "text/plain": [
       "<Figure size 640x480 with 1 Axes>"
      ]
     },
     "metadata": {},
     "output_type": "display_data"
    }
   ],
   "source": [
    "# Bar plot of Marital Status\n",
    "df.columns = df.columns.str.strip()  # Remove leading/trailing whitespaces if any\n",
    "sns.countplot(x='Marital status', data=df)"
   ]
  },
  {
   "cell_type": "markdown",
   "id": "66609e54",
   "metadata": {
    "id": "66609e54"
   },
   "source": [
    "# Label Encoder: Categorical Variables to Numerical Variables"
   ]
  },
  {
   "cell_type": "code",
   "execution_count": 13,
   "id": "4c7ade81",
   "metadata": {
    "id": "4c7ade81"
   },
   "outputs": [],
   "source": [
    "from sklearn.preprocessing import LabelEncoder"
   ]
  },
  {
   "cell_type": "code",
   "execution_count": 14,
   "id": "8f1548a1",
   "metadata": {
    "id": "8f1548a1"
   },
   "outputs": [],
   "source": [
    "# Convert all categorical variables using LabelEncoder\n",
    "label_encoder = LabelEncoder()\n",
    "for col in df.columns:\n",
    "    if df[col].dtype == 'object':  # Check if the column is categorical\n",
    "        df[col] = label_encoder.fit_transform(df[col])"
   ]
  },
  {
   "cell_type": "markdown",
   "id": "0367343d",
   "metadata": {
    "id": "0367343d"
   },
   "source": [
    "## One-Hot Encoding"
   ]
  },
  {
   "cell_type": "code",
   "execution_count": 15,
   "id": "258cd015",
   "metadata": {
    "id": "258cd015"
   },
   "outputs": [],
   "source": [
    "# Convert all categorical variables using pandas get_dummies (one-hot encoding)\n",
    "df = pd.get_dummies(df, columns=df.select_dtypes(include=['object']).columns)"
   ]
  },
  {
   "cell_type": "markdown",
   "id": "73b79275",
   "metadata": {
    "id": "73b79275"
   },
   "source": [
    "## Ordinal Encoding"
   ]
  },
  {
   "cell_type": "code",
   "execution_count": 16,
   "id": "94892346",
   "metadata": {
    "id": "94892346"
   },
   "outputs": [],
   "source": [
    "# Convert specific colum 'Age.Group' to ordinal numerical values\n",
    "age_mapping = {'0-20': 0, '21-30': 1, '31-40': 2, '41-50': 3, '51-60': 4, '61-70': 5, '71-80': 6, '81-90': 7}\n",
    "df['Age.Group'] = df['Age.Group'].map(age_mapping)"
   ]
  },
  {
   "cell_type": "markdown",
   "id": "20abc427",
   "metadata": {
    "id": "20abc427"
   },
   "source": [
    "# Standardization"
   ]
  },
  {
   "cell_type": "code",
   "execution_count": 17,
   "id": "4f914e9d",
   "metadata": {
    "id": "4f914e9d"
   },
   "outputs": [],
   "source": [
    "from sklearn.preprocessing import StandardScaler"
   ]
  },
  {
   "cell_type": "code",
   "execution_count": 18,
   "id": "c9aefb0c",
   "metadata": {
    "colab": {
     "base_uri": "https://localhost:8080/"
    },
    "id": "c9aefb0c",
    "outputId": "45cdc5af-0db1-40a3-9bea-330175dda823"
   },
   "outputs": [
    {
     "name": "stdout",
     "output_type": "stream",
     "text": [
      "          Age  Age.Group    Gender  Locality  Marital status  Life.Style  \\\n",
      "0   -1.067442        NaN -1.853034 -1.321465        -0.09066   -1.198785   \n",
      "1   -0.378287        NaN -1.853034  0.756736        -0.09066   -1.198785   \n",
      "2    0.081151        NaN -1.853034 -1.321465        -0.09066    0.834178   \n",
      "3    0.081151        NaN -1.853034 -1.321465        -0.09066    0.834178   \n",
      "4    0.196010        NaN -1.853034 -1.321465        -0.09066    0.834178   \n",
      "..        ...        ...       ...       ...             ...         ...   \n",
      "363  0.081151        NaN  0.539656  0.756736        -0.09066   -1.198785   \n",
      "364  0.081151        NaN  0.539656 -1.321465        -0.09066    0.834178   \n",
      "365  0.425728        NaN  0.539656  0.756736        -0.09066   -1.198785   \n",
      "366  0.425728        NaN  0.539656  0.756736        -0.09066   -1.198785   \n",
      "367 -0.493146        NaN  0.539656 -1.321465        -0.09066    0.834178   \n",
      "\n",
      "        Sleep  Category  Depression  Hyperlipi  ...   oldpeak     slope  \\\n",
      "0   -0.801784 -0.334339    0.220075   0.281387  ...  1.053961  0.279688   \n",
      "1   -0.801784 -0.334339    0.220075   0.281387  ... -0.247090  0.279688   \n",
      "2    1.247219 -0.334339    0.220075   0.281387  ...  1.343084  0.279688   \n",
      "3    1.247219 -0.334339    0.220075   0.281387  ...  0.331155  0.279688   \n",
      "4   -0.801784 -0.334339    0.220075   0.281387  ...  1.776767  2.054259   \n",
      "..        ...       ...         ...        ...  ...       ...       ...   \n",
      "363 -0.801784 -0.334339    0.220075  -3.553819  ... -0.753054  0.279688   \n",
      "364 -0.801784 -0.334339    0.220075   0.281387  ...  0.331155  0.279688   \n",
      "365 -0.801784 -0.334339    0.220075   0.281387  ... -0.536212 -1.494883   \n",
      "366 -0.801784 -0.334339    0.220075   0.281387  ...  0.764839  0.279688   \n",
      "367 -0.801784 -0.334339    0.220075   0.281387  ... -0.680773  0.279688   \n",
      "\n",
      "           ca      thal       num        SK  SK.React  Reaction  Mortality  \\\n",
      "0   -0.967844  0.655189 -0.034291  0.128742  0.695227 -1.719590  -0.527046   \n",
      "1   -0.967844  0.655189 -0.034291  0.128742  0.695227 -1.719590  -0.527046   \n",
      "2   -0.967844 -1.641092 -0.034291  0.128742  0.695227 -1.719590  -0.527046   \n",
      "3   -0.002623  0.655189  0.936421  0.128742  0.695227 -1.719590  -0.527046   \n",
      "4    0.962598  0.655189  0.936421  0.128742  0.695227 -1.719590  -0.527046   \n",
      "..        ...       ...       ...       ...       ...       ...        ...   \n",
      "363 -0.967844  0.655189  0.936421 -7.767453 -1.401852  0.581534  -0.527046   \n",
      "364  1.927820  0.655189  0.936421  0.128742  1.743767  0.581534  -0.527046   \n",
      "365  1.927820 -1.641092 -1.005004  0.128742 -0.877582  0.581534  -0.527046   \n",
      "366 -0.967844  0.655189  1.907134  0.128742 -0.877582  0.581534  -0.527046   \n",
      "367 -0.002623  0.655189 -1.005004  0.128742 -1.401852  0.581534  -0.527046   \n",
      "\n",
      "     Follow.Up  \n",
      "0     1.985251  \n",
      "1    -0.864589  \n",
      "2    -1.434557  \n",
      "3     1.478612  \n",
      "4     0.338677  \n",
      "..         ...  \n",
      "363   1.985251  \n",
      "364   0.465336  \n",
      "365   0.212017  \n",
      "366   0.212017  \n",
      "367  -0.864589  \n",
      "\n",
      "[368 rows x 60 columns]\n"
     ]
    }
   ],
   "source": [
    "# Standardize numerical variables using StandardScaler\n",
    "scaler = StandardScaler()\n",
    "df_standardized = scaler.fit_transform(df)\n",
    "\n",
    "# Convert standardized array back to DataFrame with original columns\n",
    "df_standardized = pd.DataFrame(df_standardized, columns=df.columns)\n",
    "\n",
    "# Display the standardized DataFrame\n",
    "print(df_standardized)"
   ]
  },
  {
   "cell_type": "markdown",
   "id": "08eec433",
   "metadata": {
    "id": "08eec433"
   },
   "source": [
    "# Min-Max Scalar"
   ]
  },
  {
   "cell_type": "code",
   "execution_count": 19,
   "id": "5d9a1a1a",
   "metadata": {
    "id": "5d9a1a1a"
   },
   "outputs": [],
   "source": [
    "from sklearn.preprocessing import MinMaxScaler"
   ]
  },
  {
   "cell_type": "code",
   "execution_count": 20,
   "id": "4cfe4112",
   "metadata": {
    "id": "4cfe4112"
   },
   "outputs": [],
   "source": [
    "min_max_scaler = MinMaxScaler()"
   ]
  },
  {
   "cell_type": "code",
   "execution_count": 21,
   "id": "73b1bb3c",
   "metadata": {
    "colab": {
     "base_uri": "https://localhost:8080/"
    },
    "id": "73b1bb3c",
    "outputId": "d764a8a3-98f6-4d6a-85a0-fc4c76336ae1"
   },
   "outputs": [
    {
     "name": "stdout",
     "output_type": "stream",
     "text": [
      "          Age  Age.Group    Gender  Locality  Marital status  Life.Style  \\\n",
      "0   -1.067442        NaN -1.853034 -1.321465        -0.09066   -1.198785   \n",
      "1   -0.378287        NaN -1.853034  0.756736        -0.09066   -1.198785   \n",
      "2    0.081151        NaN -1.853034 -1.321465        -0.09066    0.834178   \n",
      "3    0.081151        NaN -1.853034 -1.321465        -0.09066    0.834178   \n",
      "4    0.196010        NaN -1.853034 -1.321465        -0.09066    0.834178   \n",
      "..        ...        ...       ...       ...             ...         ...   \n",
      "363  0.081151        NaN  0.539656  0.756736        -0.09066   -1.198785   \n",
      "364  0.081151        NaN  0.539656 -1.321465        -0.09066    0.834178   \n",
      "365  0.425728        NaN  0.539656  0.756736        -0.09066   -1.198785   \n",
      "366  0.425728        NaN  0.539656  0.756736        -0.09066   -1.198785   \n",
      "367 -0.493146        NaN  0.539656 -1.321465        -0.09066    0.834178   \n",
      "\n",
      "        Sleep  Category  Depression  Hyperlipi  ...   oldpeak     slope  \\\n",
      "0   -0.801784 -0.334339    0.220075   0.281387  ...  1.053961  0.279688   \n",
      "1   -0.801784 -0.334339    0.220075   0.281387  ... -0.247090  0.279688   \n",
      "2    1.247219 -0.334339    0.220075   0.281387  ...  1.343084  0.279688   \n",
      "3    1.247219 -0.334339    0.220075   0.281387  ...  0.331155  0.279688   \n",
      "4   -0.801784 -0.334339    0.220075   0.281387  ...  1.776767  2.054259   \n",
      "..        ...       ...         ...        ...  ...       ...       ...   \n",
      "363 -0.801784 -0.334339    0.220075  -3.553819  ... -0.753054  0.279688   \n",
      "364 -0.801784 -0.334339    0.220075   0.281387  ...  0.331155  0.279688   \n",
      "365 -0.801784 -0.334339    0.220075   0.281387  ... -0.536212 -1.494883   \n",
      "366 -0.801784 -0.334339    0.220075   0.281387  ...  0.764839  0.279688   \n",
      "367 -0.801784 -0.334339    0.220075   0.281387  ... -0.680773  0.279688   \n",
      "\n",
      "           ca      thal       num        SK  SK.React  Reaction  Mortality  \\\n",
      "0   -0.967844  0.655189 -0.034291  0.128742  0.695227 -1.719590  -0.527046   \n",
      "1   -0.967844  0.655189 -0.034291  0.128742  0.695227 -1.719590  -0.527046   \n",
      "2   -0.967844 -1.641092 -0.034291  0.128742  0.695227 -1.719590  -0.527046   \n",
      "3   -0.002623  0.655189  0.936421  0.128742  0.695227 -1.719590  -0.527046   \n",
      "4    0.962598  0.655189  0.936421  0.128742  0.695227 -1.719590  -0.527046   \n",
      "..        ...       ...       ...       ...       ...       ...        ...   \n",
      "363 -0.967844  0.655189  0.936421 -7.767453 -1.401852  0.581534  -0.527046   \n",
      "364  1.927820  0.655189  0.936421  0.128742  1.743767  0.581534  -0.527046   \n",
      "365  1.927820 -1.641092 -1.005004  0.128742 -0.877582  0.581534  -0.527046   \n",
      "366 -0.967844  0.655189  1.907134  0.128742 -0.877582  0.581534  -0.527046   \n",
      "367 -0.002623  0.655189 -1.005004  0.128742 -1.401852  0.581534  -0.527046   \n",
      "\n",
      "     Follow.Up  \n",
      "0     1.985251  \n",
      "1    -0.864589  \n",
      "2    -1.434557  \n",
      "3     1.478612  \n",
      "4     0.338677  \n",
      "..         ...  \n",
      "363   1.985251  \n",
      "364   0.465336  \n",
      "365   0.212017  \n",
      "366   0.212017  \n",
      "367  -0.864589  \n",
      "\n",
      "[368 rows x 60 columns]\n"
     ]
    }
   ],
   "source": [
    "df_scaled = scaler.fit_transform(df)\n",
    "df_scaled = scaler.fit_transform(df)\n",
    "\n",
    "# Convert scaled array back to DataFrame with original columns\n",
    "df_scaled = pd.DataFrame(df_scaled, columns=df.columns)\n",
    "\n",
    "# Display the scaled DataFrame\n",
    "print(df_scaled)"
   ]
  },
  {
   "cell_type": "markdown",
   "id": "0ced86e7",
   "metadata": {
    "id": "0ced86e7"
   },
   "source": [
    "# Bayesian Statistics"
   ]
  },
  {
   "cell_type": "code",
   "execution_count": 22,
   "id": "f0bee625",
   "metadata": {
    "colab": {
     "base_uri": "https://localhost:8080/"
    },
    "id": "f0bee625",
    "outputId": "b99eff17-584e-4943-8750-c621ca619a1e"
   },
   "outputs": [
    {
     "name": "stdout",
     "output_type": "stream",
     "text": [
      "Collecting GPy\n",
      "  Downloading GPy-1.13.1-cp310-cp310-manylinux_2_17_x86_64.manylinux2014_x86_64.whl (3.6 MB)\n",
      "\u001b[2K     \u001b[90m━━━━━━━━━━━━━━━━━━━━━━━━━━━━━━━━━━━━━━━━\u001b[0m \u001b[32m3.6/3.6 MB\u001b[0m \u001b[31m26.6 MB/s\u001b[0m eta \u001b[36m0:00:00\u001b[0m\n",
      "\u001b[?25hRequirement already satisfied: numpy>=1.7 in /usr/local/lib/python3.10/dist-packages (from GPy) (1.25.2)\n",
      "Requirement already satisfied: six in /usr/local/lib/python3.10/dist-packages (from GPy) (1.16.0)\n",
      "Collecting paramz>=0.9.6 (from GPy)\n",
      "  Downloading paramz-0.9.6-py3-none-any.whl (103 kB)\n",
      "\u001b[2K     \u001b[90m━━━━━━━━━━━━━━━━━━━━━━━━━━━━━━━━━━━━━━━━\u001b[0m \u001b[32m103.2/103.2 kB\u001b[0m \u001b[31m12.2 MB/s\u001b[0m eta \u001b[36m0:00:00\u001b[0m\n",
      "\u001b[?25hRequirement already satisfied: cython>=0.29 in /usr/local/lib/python3.10/dist-packages (from GPy) (3.0.10)\n",
      "Requirement already satisfied: scipy<1.12.0,>=1.3.0 in /usr/local/lib/python3.10/dist-packages (from GPy) (1.11.4)\n",
      "Requirement already satisfied: decorator>=4.0.10 in /usr/local/lib/python3.10/dist-packages (from paramz>=0.9.6->GPy) (4.4.2)\n",
      "Installing collected packages: paramz, GPy\n",
      "Successfully installed GPy-1.13.1 paramz-0.9.6\n"
     ]
    }
   ],
   "source": [
    "!pip install GPy\n",
    "import GPy"
   ]
  },
  {
   "cell_type": "code",
   "execution_count": 23,
   "id": "IsDBpvy0tNG2",
   "metadata": {
    "id": "IsDBpvy0tNG2"
   },
   "outputs": [],
   "source": [
    "import numpy as np"
   ]
  },
  {
   "cell_type": "code",
   "execution_count": 24,
   "id": "1c13de70",
   "metadata": {
    "id": "1c13de70"
   },
   "outputs": [],
   "source": [
    "from sklearn.model_selection import train_test_split"
   ]
  },
  {
   "cell_type": "code",
   "execution_count": 25,
   "id": "rpVWWm-wuaAZ",
   "metadata": {
    "id": "rpVWWm-wuaAZ"
   },
   "outputs": [],
   "source": [
    "# Define your features and target variable\n",
    "X = df.drop(['Diagnosis'], axis=1)  # Assuming 'Diagnosis' is your target variable\n",
    "y = df['Diagnosis']\n",
    "\n",
    "# Split data into training and testing sets\n",
    "X_train, X_test, y_train, y_test = train_test_split(X, y, test_size=0.2, random_state=42)\n",
    "\n",
    "# Standardize the data (optional, depending on the model used)\n",
    "scaler = StandardScaler()\n",
    "X_train_scaled = scaler.fit_transform(X_train)\n",
    "X_test_scaled = scaler.transform(X_test)"
   ]
  },
  {
   "cell_type": "markdown",
   "id": "4DUwIl1pusIO",
   "metadata": {
    "id": "4DUwIl1pusIO"
   },
   "source": [
    "## Train the Bayesian Model"
   ]
  },
  {
   "cell_type": "code",
   "execution_count": 26,
   "id": "oTXZifHruaD4",
   "metadata": {
    "colab": {
     "base_uri": "https://localhost:8080/",
     "height": 511,
     "referenced_widgets": [
      "b178ec3d10aa42dab77cf07f04e2cbfd",
      "1daa62b2b3524bafa57e3f9f20d99f57",
      "ce19377bd48649e1af1bbeb9b84c6e54",
      "1162b0175425453a914eb60240265516",
      "183d192916ab4f02992840f2efe7c9b7",
      "b381b1aa025f43279acb0608c4b021ad",
      "6e76680acfff47ef85f0f87522a4de8d",
      "a8f6af4d82b5476d8dd4de114c9360b1",
      "48806562cc4a4eaba350dbb272d34fa9",
      "8b83760808ba49fcbddbe44ec5d00ea8",
      "c4f32ec2847d40d297e36a2062b7490c",
      "9ff95e8286dc4e9b8e7f357f0a931bd9",
      "bb2de28d86284e6a83dac936dd7a93c1",
      "618134c6af704fe98183ea3321d69c70",
      "4947bef33d674d209f71051d6f954f1e"
     ]
    },
    "id": "oTXZifHruaD4",
    "outputId": "075271ef-6efc-4e84-c1f4-a170c9fab5ce"
   },
   "outputs": [
    {
     "data": {
      "application/vnd.jupyter.widget-view+json": {
       "model_id": "b178ec3d10aa42dab77cf07f04e2cbfd",
       "version_major": 2,
       "version_minor": 0
      },
      "text/plain": [
       "HBox(children=(VBox(children=(IntProgress(value=0, max=1000), HTML(value=''))), Box(children=(HTML(value=''),)…"
      ]
     },
     "metadata": {},
     "output_type": "display_data"
    },
    {
     "name": "stdout",
     "output_type": "stream",
     "text": [
      "\n",
      "Name : GP regression\n",
      "Objective : nan\n",
      "Number of Parameters : 61\n",
      "Number of Optimization Parameters : 61\n",
      "Updates : True\n",
      "Parameters:\n",
      "  \u001b[1mGP_regression.         \u001b[0;0m  |  value  |  constraints  |  priors\n",
      "  \u001b[1mrbf.variance           \u001b[0;0m  |    1.0  |      +ve      |        \n",
      "  \u001b[1mrbf.lengthscale        \u001b[0;0m  |  (59,)  |      +ve      |        \n",
      "  \u001b[1mGaussian_noise.variance\u001b[0;0m  |    1.0  |      +ve      |        \n"
     ]
    }
   ],
   "source": [
    "# Define the kernel (example using RBF kernel)\n",
    "kernel = GPy.kern.RBF(input_dim=X_train.shape[1], ARD=True)\n",
    "\n",
    "# Create a Gaussian Process model\n",
    "model = GPy.models.GPRegression(X_train_scaled, y_train.values.reshape(-1, 1), kernel)\n",
    "\n",
    "# Optionally, optimize the model parameters\n",
    "model.optimize(messages=True)\n",
    "\n",
    "# Print optimized parameters\n",
    "print(model)"
   ]
  },
  {
   "cell_type": "markdown",
   "id": "yWfNq1ngu_cl",
   "metadata": {
    "id": "yWfNq1ngu_cl"
   },
   "source": [
    "## Model Predicting and Evaluation"
   ]
  },
  {
   "cell_type": "code",
   "execution_count": 27,
   "id": "yIaQqa-zuaHg",
   "metadata": {
    "colab": {
     "base_uri": "https://localhost:8080/"
    },
    "id": "yIaQqa-zuaHg",
    "outputId": "b80f28bb-21d6-4a08-a71d-890df6a606bb"
   },
   "outputs": [
    {
     "name": "stdout",
     "output_type": "stream",
     "text": [
      "Mean Squared Error: nan\n"
     ]
    }
   ],
   "source": [
    "# Make predictions\n",
    "y_pred, y_var = model.predict(X_test_scaled)\n",
    "\n",
    "# Evaluate the model (example using mean squared error)\n",
    "mse = np.mean((y_pred - y_test.values.reshape(-1, 1)) ** 2)\n",
    "print(f\"Mean Squared Error: {mse}\")"
   ]
  },
  {
   "cell_type": "code",
   "execution_count": null,
   "id": "ow7rKb38uaWG",
   "metadata": {
    "id": "ow7rKb38uaWG"
   },
   "outputs": [],
   "source": []
  },
  {
   "cell_type": "markdown",
   "id": "70ba44d9",
   "metadata": {
    "id": "70ba44d9"
   },
   "source": [
    "## Bayesian Optimization"
   ]
  },
  {
   "cell_type": "code",
   "execution_count": 28,
   "id": "uKQrumxyuaZc",
   "metadata": {
    "colab": {
     "base_uri": "https://localhost:8080/"
    },
    "id": "uKQrumxyuaZc",
    "outputId": "b1dfbaa5-3e0b-4b47-c3e6-40384638c695"
   },
   "outputs": [
    {
     "name": "stdout",
     "output_type": "stream",
     "text": [
      "Collecting scikit-optimize\n",
      "  Downloading scikit_optimize-0.10.2-py2.py3-none-any.whl (107 kB)\n",
      "\u001b[?25l     \u001b[90m━━━━━━━━━━━━━━━━━━━━━━━━━━━━━━━━━━━━━━━━\u001b[0m \u001b[32m0.0/107.8 kB\u001b[0m \u001b[31m?\u001b[0m eta \u001b[36m-:--:--\u001b[0m\r",
      "\u001b[2K     \u001b[91m━━━━━━━━━━━━━━━━━━━━━━━━━━━━━━━━━━━━━\u001b[0m\u001b[91m╸\u001b[0m\u001b[90m━━\u001b[0m \u001b[32m102.4/107.8 kB\u001b[0m \u001b[31m3.1 MB/s\u001b[0m eta \u001b[36m0:00:01\u001b[0m\r",
      "\u001b[2K     \u001b[90m━━━━━━━━━━━━━━━━━━━━━━━━━━━━━━━━━━━━━━━━\u001b[0m \u001b[32m107.8/107.8 kB\u001b[0m \u001b[31m2.7 MB/s\u001b[0m eta \u001b[36m0:00:00\u001b[0m\n",
      "\u001b[?25hRequirement already satisfied: joblib>=0.11 in /usr/local/lib/python3.10/dist-packages (from scikit-optimize) (1.4.2)\n",
      "Collecting pyaml>=16.9 (from scikit-optimize)\n",
      "  Downloading pyaml-24.4.0-py3-none-any.whl (24 kB)\n",
      "Requirement already satisfied: numpy>=1.20.3 in /usr/local/lib/python3.10/dist-packages (from scikit-optimize) (1.25.2)\n",
      "Requirement already satisfied: scipy>=1.1.0 in /usr/local/lib/python3.10/dist-packages (from scikit-optimize) (1.11.4)\n",
      "Requirement already satisfied: scikit-learn>=1.0.0 in /usr/local/lib/python3.10/dist-packages (from scikit-optimize) (1.2.2)\n",
      "Requirement already satisfied: packaging>=21.3 in /usr/local/lib/python3.10/dist-packages (from scikit-optimize) (24.1)\n",
      "Requirement already satisfied: PyYAML in /usr/local/lib/python3.10/dist-packages (from pyaml>=16.9->scikit-optimize) (6.0.1)\n",
      "Requirement already satisfied: threadpoolctl>=2.0.0 in /usr/local/lib/python3.10/dist-packages (from scikit-learn>=1.0.0->scikit-optimize) (3.5.0)\n",
      "Installing collected packages: pyaml, scikit-optimize\n",
      "Successfully installed pyaml-24.4.0 scikit-optimize-0.10.2\n"
     ]
    }
   ],
   "source": [
    "pip install scikit-optimize"
   ]
  },
  {
   "cell_type": "code",
   "execution_count": 29,
   "id": "Wg2eQs75JLtc",
   "metadata": {
    "id": "Wg2eQs75JLtc"
   },
   "outputs": [],
   "source": [
    "from sklearn.impute import SimpleImputer\n",
    "\n",
    "# Instantiate SimpleImputer with strategy to handle NaN values\n",
    "imputer = SimpleImputer(strategy='mean')  # Or 'median', 'most_frequent', etc.\n",
    "\n",
    "# Fit the imputer on training data and transform both training and testing data\n",
    "X_train_imputed = imputer.fit_transform(X_train)\n",
    "X_test_imputed = imputer.transform(X_test)"
   ]
  },
  {
   "cell_type": "code",
   "execution_count": 30,
   "id": "4NVBevzXJLwj",
   "metadata": {
    "id": "4NVBevzXJLwj"
   },
   "outputs": [],
   "source": [
    "# Drop rows with NaN values\n",
    "X_train.dropna(inplace=True)\n",
    "y_train = y_train[X_train.index]  # Update y_train accordingly\n",
    "\n",
    "X_test.dropna(inplace=True)\n",
    "y_test = y_test[X_test.index]  # Update y_test accordingly"
   ]
  },
  {
   "cell_type": "markdown",
   "id": "xMieBpz5LLYG",
   "metadata": {
    "id": "xMieBpz5LLYG"
   },
   "source": [
    "## Implementing Bayesian Optimization"
   ]
  },
  {
   "cell_type": "code",
   "execution_count": 31,
   "id": "9s2n8pYNJL3r",
   "metadata": {
    "id": "9s2n8pYNJL3r"
   },
   "outputs": [],
   "source": [
    "from sklearn.ensemble import RandomForestClassifier\n",
    "from sklearn.metrics import accuracy_score\n",
    "from skopt import BayesSearchCV\n",
    "from skopt.space import Real, Categorical, Integer\n",
    "from sklearn.impute import SimpleImputer"
   ]
  },
  {
   "cell_type": "code",
   "execution_count": 32,
   "id": "Bbo4A6jLJL69",
   "metadata": {
    "id": "Bbo4A6jLJL69"
   },
   "outputs": [],
   "source": [
    "# Preprocess data to handle missing values\n",
    "X = df.drop(['Diagnosis'], axis=1)\n",
    "y = df['Diagnosis']\n",
    "\n",
    "# Split data into training and testing sets\n",
    "X_train, X_test, y_train, y_test = train_test_split(X, y, test_size=0.2, random_state=42)\n",
    "\n",
    "# Impute missing values in both training and testing data\n",
    "imputer = SimpleImputer(strategy='mean')\n",
    "X_train_imputed = imputer.fit_transform(X_train)\n",
    "X_test_imputed = imputer.transform(X_test)"
   ]
  },
  {
   "cell_type": "code",
   "execution_count": 33,
   "id": "XNT9h3SqJL-L",
   "metadata": {
    "id": "XNT9h3SqJL-L"
   },
   "outputs": [],
   "source": [
    "# Define the search space for Bayesian optimization\n",
    "param_space = {\n",
    "    'n_estimators': Integer(100, 1000),  # Number of trees in the forest\n",
    "    'max_depth': Integer(10, 100),       # Maximum depth of the trees\n",
    "    'min_samples_split': Integer(2, 20), # Minimum samples required to split an internal node\n",
    "    'min_samples_leaf': Integer(1, 10),  # Minimum number of samples required to be at a leaf node\n",
    "    'max_features': Categorical(['sqrt', 'log2'])  # Number of features to consider when looking for the best split\n",
    "}"
   ]
  },
  {
   "cell_type": "code",
   "execution_count": 34,
   "id": "ftRTWxyqJMBv",
   "metadata": {
    "id": "ftRTWxyqJMBv"
   },
   "outputs": [],
   "source": [
    "# Initialize Random Forest classifier\n",
    "rf = RandomForestClassifier(random_state=42)\n",
    "\n",
    "# Initialize BayesSearchCV with the Random Forest classifier and search space\n",
    "opt = BayesSearchCV(\n",
    "    rf,\n",
    "    search_spaces=param_space,\n",
    "    n_iter=50,    # Number of parameter settings that are sampled\n",
    "    random_state=42,\n",
    "    cv=5,         # Number of cross-validation folds\n",
    "    n_jobs=-1     # Use all available CPUs\n",
    ")"
   ]
  },
  {
   "cell_type": "code",
   "execution_count": 35,
   "id": "Blb7oeTAJMFJ",
   "metadata": {
    "colab": {
     "base_uri": "https://localhost:8080/"
    },
    "id": "Blb7oeTAJMFJ",
    "outputId": "6c034cd3-696b-4f18-9b95-c0b63bd8c146"
   },
   "outputs": [
    {
     "name": "stdout",
     "output_type": "stream",
     "text": [
      "Best parameters found:  OrderedDict([('max_depth', 48), ('max_features', 'sqrt'), ('min_samples_leaf', 1), ('min_samples_split', 2), ('n_estimators', 224)])\n",
      "Best cross-validation accuracy: 0.98\n",
      "Test accuracy of best model: 1.00\n"
     ]
    }
   ],
   "source": [
    "# Perform Bayesian optimization on the imputed training data\n",
    "opt.fit(X_train_imputed, y_train)\n",
    "\n",
    "# Print the best parameters and best score\n",
    "print(\"Best parameters found: \", opt.best_params_)\n",
    "print(\"Best cross-validation accuracy: {:.2f}\".format(opt.best_score_))\n",
    "\n",
    "# Evaluate the best model on the imputed test data\n",
    "y_pred = opt.best_estimator_.predict(X_test_imputed)\n",
    "test_accuracy = accuracy_score(y_test, y_pred)\n",
    "print(\"Test accuracy of best model: {:.2f}\".format(test_accuracy))"
   ]
  },
  {
   "cell_type": "markdown",
   "id": "MjflLZiyM8gH",
   "metadata": {
    "id": "MjflLZiyM8gH"
   },
   "source": [
    "## A/B Testing"
   ]
  },
  {
   "cell_type": "code",
   "execution_count": 36,
   "id": "4QcU3ef2JMIQ",
   "metadata": {
    "id": "4QcU3ef2JMIQ"
   },
   "outputs": [],
   "source": [
    "from scipy.stats import beta"
   ]
  },
  {
   "cell_type": "code",
   "execution_count": 37,
   "id": "AGDb9luwJMLn",
   "metadata": {
    "id": "AGDb9luwJMLn"
   },
   "outputs": [],
   "source": [
    "# Define your features and target variable\n",
    "version_A_Diagnosis = df[df['Diagnosis'] == 'A']['Diagnosis'].values\n",
    "version_B_Diagnosis = df[df['Diagnosis'] == 'B']['Diagnosis'].values\n",
    "\n",
    "# Number of samples and conversions for version A and version B\n",
    "num_samples_A = len(version_A_Diagnosis)\n",
    "num_conversions_A = sum(version_A_Diagnosis)\n",
    "\n",
    "num_samples_B = len(version_B_Diagnosis)\n",
    "num_conversions_B = sum(version_B_Diagnosis)"
   ]
  },
  {
   "cell_type": "code",
   "execution_count": 38,
   "id": "CNq1cI8xJMPA",
   "metadata": {
    "id": "CNq1cI8xJMPA"
   },
   "outputs": [],
   "source": [
    "# Prior parameters (assuming uninformative priors)\n",
    "alpha_prior = 1\n",
    "beta_prior = 1\n",
    "\n",
    "# Update the prior with the data from version A\n",
    "posterior_A = beta(alpha_prior + num_conversions_A, beta_prior + num_samples_A - num_conversions_A)\n",
    "\n",
    "# Update the prior with the data from version B\n",
    "posterior_B = beta(alpha_prior + num_conversions_B, beta_prior + num_samples_B - num_conversions_B)"
   ]
  },
  {
   "cell_type": "markdown",
   "id": "7suksNoGNp94",
   "metadata": {
    "id": "7suksNoGNp94"
   },
   "source": [
    "### A/B Testing Visualization"
   ]
  },
  {
   "cell_type": "code",
   "execution_count": 39,
   "id": "WfxNLVlNNruO",
   "metadata": {
    "colab": {
     "base_uri": "https://localhost:8080/",
     "height": 564
    },
    "id": "WfxNLVlNNruO",
    "outputId": "c6033f0b-4cab-4781-d099-6d4f2015dfcd"
   },
   "outputs": [
    {
     "data": {
      "image/png": "[encoded data removed]",
      "text/plain": [
       "<Figure size 1000x600 with 1 Axes>"
      ]
     },
     "metadata": {},
     "output_type": "display_data"
    }
   ],
   "source": [
    "# Plot the posterior distributions\n",
    "x = np.linspace(0, 1, 1000)\n",
    "plt.figure(figsize=(10, 6))\n",
    "plt.plot(x, posterior_A.pdf(x), label='Version A')\n",
    "plt.plot(x, posterior_B.pdf(x), label='Version B')\n",
    "plt.title('Posterior Distribution of Conversion Rate')\n",
    "plt.xlabel('Conversion Rate')\n",
    "plt.ylabel('Density')\n",
    "plt.legend()\n",
    "plt.show()"
   ]
  },
  {
   "cell_type": "markdown",
   "id": "XEgaQVoeNkHv",
   "metadata": {
    "id": "XEgaQVoeNkHv"
   },
   "source": [
    "### A/B Testing Probability"
   ]
  },
  {
   "cell_type": "code",
   "execution_count": 40,
   "id": "OSQk5Ry_NrxT",
   "metadata": {
    "colab": {
     "base_uri": "https://localhost:8080/"
    },
    "id": "OSQk5Ry_NrxT",
    "outputId": "c04fbef1-8dab-4ef1-8f17-936ccb78a5d5"
   },
   "outputs": [
    {
     "name": "stdout",
     "output_type": "stream",
     "text": [
      "Probability that Version B is better than Version A: 0.50\n"
     ]
    }
   ],
   "source": [
    "# Calculate the probability that version B is better than version A\n",
    "probability_B_better = np.mean(posterior_B.rvs(10000) > posterior_A.rvs(10000))\n",
    "print(f\"Probability that Version B is better than Version A: {probability_B_better:.2f}\")"
   ]
  },
  {
   "cell_type": "markdown",
   "id": "VcYKeh11NMs8",
   "metadata": {
    "id": "VcYKeh11NMs8"
   },
   "source": [
    "## Bayesian Inference"
   ]
  },
  {
   "cell_type": "code",
   "execution_count": 43,
   "id": "5vR2HV2ONsqI",
   "metadata": {
    "id": "5vR2HV2ONsqI"
   },
   "outputs": [],
   "source": [
    "from scipy.stats import beta\n",
    "\n",
    "# Hypothetical data for version A\n",
    "conversions_A = 200\n",
    "trials_A = 1000\n",
    "\n",
    "# Hypothetical data for version B\n",
    "conversions_B = 180\n",
    "trials_B = 1000\n",
    "\n",
    "# Priors (Beta distribution parameters)\n",
    "alpha_prior_A, beta_prior_A = 1, 1  # Uninformative prior for version A\n",
    "alpha_prior_B, beta_prior_B = 1, 1  # Uninformative prior for version B\n",
    "\n",
    "# Posterior distributions (Beta distributions)\n",
    "posterior_A = beta(alpha_prior_A + conversions_A, beta_prior_A + trials_A - conversions_A)\n",
    "posterior_B = beta(alpha_prior_B + conversions_B, beta_prior_B + trials_B - conversions_B)"
   ]
  },
  {
   "cell_type": "markdown",
   "id": "cS-l2B5oNVt-",
   "metadata": {
    "id": "cS-l2B5oNVt-"
   },
   "source": [
    "### Bayesian Inference Visualization"
   ]
  },
  {
   "cell_type": "code",
   "execution_count": 44,
   "id": "GPq6vmsWNstd",
   "metadata": {
    "colab": {
     "base_uri": "https://localhost:8080/",
     "height": 564
    },
    "id": "GPq6vmsWNstd",
    "outputId": "c66de0b9-7f76-450d-c29f-f8d966c762e7"
   },
   "outputs": [
    {
     "data": {
      "image/png": "[encoded data removed]",
      "text/plain": [
       "<Figure size 1000x600 with 1 Axes>"
      ]
     },
     "metadata": {},
     "output_type": "display_data"
    }
   ],
   "source": [
    "# Plot the posterior distributions\n",
    "x = np.linspace(0, 1, 1000)\n",
    "plt.figure(figsize=(10, 6))\n",
    "plt.plot(x, posterior_A.pdf(x), label='Version A')\n",
    "plt.plot(x, posterior_B.pdf(x), label='Version B')\n",
    "plt.title('Posterior Distribution of Conversion Rate')\n",
    "plt.xlabel('Conversion Rate')\n",
    "plt.ylabel('Density')\n",
    "plt.legend()\n",
    "plt.show()"
   ]
  },
  {
   "cell_type": "markdown",
   "id": "0uvlfoDWNbIR",
   "metadata": {
    "id": "0uvlfoDWNbIR"
   },
   "source": [
    "### Bayesian Inference Probability"
   ]
  },
  {
   "cell_type": "code",
   "execution_count": 45,
   "id": "-yk43ERBM611",
   "metadata": {
    "colab": {
     "base_uri": "https://localhost:8080/"
    },
    "id": "-yk43ERBM611",
    "outputId": "a9c066d4-b5bc-42b2-d26e-f62d40b6f72d"
   },
   "outputs": [
    {
     "name": "stdout",
     "output_type": "stream",
     "text": [
      "Probability that Version B is better than Version A: 0.12\n"
     ]
    }
   ],
   "source": [
    "# Calculate the probability that version B is better than version A\n",
    "probability_B_better = np.mean(posterior_B.rvs(10000) > posterior_A.rvs(10000))\n",
    "print(f\"Probability that Version B is better than Version A: {probability_B_better:.2f}\")"
   ]
  },
  {
   "cell_type": "code",
   "execution_count": null,
   "id": "Ov_u92fnQAuY",
   "metadata": {
    "id": "Ov_u92fnQAuY"
   },
   "outputs": [],
   "source": []
  },
  {
   "cell_type": "code",
   "execution_count": null,
   "id": "sRx_wGK4P-Lp",
   "metadata": {
    "id": "sRx_wGK4P-Lp"
   },
   "outputs": [],
   "source": []
  },
  {
   "cell_type": "markdown",
   "id": "1FggsxeIP-x7",
   "metadata": {
    "id": "1FggsxeIP-x7"
   },
   "source": [
    "# Conclusion: Bayesian Optimization A/B Testing Results\n",
    "\n",
    "In the context of heart rate analysis and diagnosis checking using Bayesian optimization A/B testing, we've observed significant differences in the probabilities between conditions A and B.\n",
    "\n",
    "## Bayesian Optimization A/B Testing (P(B) > P(A) = 0.5):\n",
    "This result suggests that condition B shows a clear statistical advantage over condition A with a probability of 0.5, indicating a moderate but notable difference.\n",
    "\n",
    "## Bayesian Inference (P(B) > P(A) = 0.12):\n",
    "Bayesian inference similarly supports the superiority of condition B over A, but with a lower probability of 0.12, implying a weaker statistical strength compared to the A/B testing results.\n",
    "\n",
    "## Implications and Action Steps:\n",
    "Given these findings, it's crucial to consider the context and practical implications for clinical decision-making.\n",
    "Recommendation: Further investigate the specific metrics and clinical outcomes influenced by these conditions to determine the most effective course of action. Consider additional data collection or expert consultation to validate and interpret these results accurately.\n",
    "\n",
    "These insights will guide us in optimizing our approach to heart rate analysis and diagnosis checking, ensuring informed and effective decision-making."
   ]
  },
  {
   "cell_type": "code",
   "execution_count": null,
   "id": "3x4xAXSBQjmu",
   "metadata": {
    "id": "3x4xAXSBQjmu"
   },
   "outputs": [],
   "source": []
  }
 ],
 "metadata": {
  "colab": {
   "provenance": []
  },
  "kernelspec": {
   "display_name": "Python 3 (ipykernel)",
   "language": "python",
   "name": "python3"
  },
  "language_info": {
   "codemirror_mode": {
    "name": "ipython",
    "version": 3
   },
   "file_extension": ".py",
   "mimetype": "text/x-python",
   "name": "python",
   "nbconvert_exporter": "python",
   "pygments_lexer": "ipython3",
   "version": "3.9.13"
  },
  "widgets": {
   "application/vnd.jupyter.widget-state+json": {
    "1162b0175425453a914eb60240265516": {
     "model_module": "@jupyter-widgets/base",
     "model_module_version": "1.2.0",
     "model_name": "LayoutModel",
     "state": {
      "_model_module": "@jupyter-widgets/base",
      "_model_module_version": "1.2.0",
      "_model_name": "LayoutModel",
      "_view_count": null,
      "_view_module": "@jupyter-widgets/base",
      "_view_module_version": "1.2.0",
      "_view_name": "LayoutView",
      "align_content": null,
      "align_items": null,
      "align_self": null,
      "border": null,
      "bottom": null,
      "display": null,
      "flex": null,
      "flex_flow": null,
      "grid_area": null,
      "grid_auto_columns": null,
      "grid_auto_flow": null,
      "grid_auto_rows": null,
      "grid_column": null,
      "grid_gap": null,
      "grid_row": null,
      "grid_template_areas": null,
      "grid_template_columns": null,
      "grid_template_rows": null,
      "height": null,
      "justify_content": null,
      "justify_items": null,
      "left": null,
      "margin": null,
      "max_height": null,
      "max_width": null,
      "min_height": null,
      "min_width": null,
      "object_fit": null,
      "object_position": null,
      "order": null,
      "overflow": null,
      "overflow_x": null,
      "overflow_y": null,
      "padding": null,
      "right": null,
      "top": null,
      "visibility": null,
      "width": null
     }
    },
    "183d192916ab4f02992840f2efe7c9b7": {
     "model_module": "@jupyter-widgets/controls",
     "model_module_version": "1.5.0",
     "model_name": "IntProgressModel",
     "state": {
      "_dom_classes": [],
      "_model_module": "@jupyter-widgets/controls",
      "_model_module_version": "1.5.0",
      "_model_name": "IntProgressModel",
      "_view_count": null,
      "_view_module": "@jupyter-widgets/controls",
      "_view_module_version": "1.5.0",
      "_view_name": "ProgressView",
      "bar_style": "danger",
      "description": "",
      "description_tooltip": null,
      "layout": "IPY_MODEL_8b83760808ba49fcbddbe44ec5d00ea8",
      "max": 1000,
      "min": 0,
      "orientation": "horizontal",
      "style": "IPY_MODEL_c4f32ec2847d40d297e36a2062b7490c",
      "value": 43
     }
    },
    "1daa62b2b3524bafa57e3f9f20d99f57": {
     "model_module": "@jupyter-widgets/controls",
     "model_module_version": "1.5.0",
     "model_name": "VBoxModel",
     "state": {
      "_dom_classes": [],
      "_model_module": "@jupyter-widgets/controls",
      "_model_module_version": "1.5.0",
      "_model_name": "VBoxModel",
      "_view_count": null,
      "_view_module": "@jupyter-widgets/controls",
      "_view_module_version": "1.5.0",
      "_view_name": "VBoxView",
      "box_style": "",
      "children": [
       "IPY_MODEL_183d192916ab4f02992840f2efe7c9b7",
       "IPY_MODEL_b381b1aa025f43279acb0608c4b021ad"
      ],
      "layout": "IPY_MODEL_6e76680acfff47ef85f0f87522a4de8d"
     }
    },
    "48806562cc4a4eaba350dbb272d34fa9": {
     "model_module": "@jupyter-widgets/base",
     "model_module_version": "1.2.0",
     "model_name": "LayoutModel",
     "state": {
      "_model_module": "@jupyter-widgets/base",
      "_model_module_version": "1.2.0",
      "_model_name": "LayoutModel",
      "_view_count": null,
      "_view_module": "@jupyter-widgets/base",
      "_view_module_version": "1.2.0",
      "_view_name": "LayoutView",
      "align_content": null,
      "align_items": null,
      "align_self": null,
      "border": null,
      "bottom": null,
      "display": null,
      "flex": null,
      "flex_flow": null,
      "grid_area": null,
      "grid_auto_columns": null,
      "grid_auto_flow": null,
      "grid_auto_rows": null,
      "grid_column": null,
      "grid_gap": null,
      "grid_row": null,
      "grid_template_areas": null,
      "grid_template_columns": null,
      "grid_template_rows": null,
      "height": null,
      "justify_content": null,
      "justify_items": null,
      "left": null,
      "margin": null,
      "max_height": null,
      "max_width": null,
      "min_height": null,
      "min_width": null,
      "object_fit": null,
      "object_position": null,
      "order": null,
      "overflow": null,
      "overflow_x": null,
      "overflow_y": null,
      "padding": null,
      "right": null,
      "top": null,
      "visibility": null,
      "width": null
     }
    },
    "4947bef33d674d209f71051d6f954f1e": {
     "model_module": "@jupyter-widgets/controls",
     "model_module_version": "1.5.0",
     "model_name": "DescriptionStyleModel",
     "state": {
      "_model_module": "@jupyter-widgets/controls",
      "_model_module_version": "1.5.0",
      "_model_name": "DescriptionStyleModel",
      "_view_count": null,
      "_view_module": "@jupyter-widgets/base",
      "_view_module_version": "1.2.0",
      "_view_name": "StyleView",
      "description_width": ""
     }
    },
    "618134c6af704fe98183ea3321d69c70": {
     "model_module": "@jupyter-widgets/base",
     "model_module_version": "1.2.0",
     "model_name": "LayoutModel",
     "state": {
      "_model_module": "@jupyter-widgets/base",
      "_model_module_version": "1.2.0",
      "_model_name": "LayoutModel",
      "_view_count": null,
      "_view_module": "@jupyter-widgets/base",
      "_view_module_version": "1.2.0",
      "_view_name": "LayoutView",
      "align_content": null,
      "align_items": null,
      "align_self": null,
      "border": null,
      "bottom": null,
      "display": null,
      "flex": null,
      "flex_flow": null,
      "grid_area": null,
      "grid_auto_columns": null,
      "grid_auto_flow": null,
      "grid_auto_rows": null,
      "grid_column": null,
      "grid_gap": null,
      "grid_row": null,
      "grid_template_areas": null,
      "grid_template_columns": null,
      "grid_template_rows": null,
      "height": null,
      "justify_content": null,
      "justify_items": null,
      "left": null,
      "margin": null,
      "max_height": null,
      "max_width": null,
      "min_height": null,
      "min_width": null,
      "object_fit": null,
      "object_position": null,
      "order": null,
      "overflow": null,
      "overflow_x": null,
      "overflow_y": null,
      "padding": null,
      "right": null,
      "top": null,
      "visibility": null,
      "width": null
     }
    },
    "6e76680acfff47ef85f0f87522a4de8d": {
     "model_module": "@jupyter-widgets/base",
     "model_module_version": "1.2.0",
     "model_name": "LayoutModel",
     "state": {
      "_model_module": "@jupyter-widgets/base",
      "_model_module_version": "1.2.0",
      "_model_name": "LayoutModel",
      "_view_count": null,
      "_view_module": "@jupyter-widgets/base",
      "_view_module_version": "1.2.0",
      "_view_name": "LayoutView",
      "align_content": null,
      "align_items": null,
      "align_self": null,
      "border": null,
      "bottom": null,
      "display": null,
      "flex": null,
      "flex_flow": null,
      "grid_area": null,
      "grid_auto_columns": null,
      "grid_auto_flow": null,
      "grid_auto_rows": null,
      "grid_column": null,
      "grid_gap": null,
      "grid_row": null,
      "grid_template_areas": null,
      "grid_template_columns": null,
      "grid_template_rows": null,
      "height": null,
      "justify_content": null,
      "justify_items": null,
      "left": null,
      "margin": null,
      "max_height": null,
      "max_width": null,
      "min_height": null,
      "min_width": null,
      "object_fit": null,
      "object_position": null,
      "order": null,
      "overflow": null,
      "overflow_x": null,
      "overflow_y": null,
      "padding": null,
      "right": null,
      "top": null,
      "visibility": null,
      "width": null
     }
    },
    "8b83760808ba49fcbddbe44ec5d00ea8": {
     "model_module": "@jupyter-widgets/base",
     "model_module_version": "1.2.0",
     "model_name": "LayoutModel",
     "state": {
      "_model_module": "@jupyter-widgets/base",
      "_model_module_version": "1.2.0",
      "_model_name": "LayoutModel",
      "_view_count": null,
      "_view_module": "@jupyter-widgets/base",
      "_view_module_version": "1.2.0",
      "_view_name": "LayoutView",
      "align_content": null,
      "align_items": null,
      "align_self": null,
      "border": null,
      "bottom": null,
      "display": null,
      "flex": null,
      "flex_flow": null,
      "grid_area": null,
      "grid_auto_columns": null,
      "grid_auto_flow": null,
      "grid_auto_rows": null,
      "grid_column": null,
      "grid_gap": null,
      "grid_row": null,
      "grid_template_areas": null,
      "grid_template_columns": null,
      "grid_template_rows": null,
      "height": null,
      "justify_content": null,
      "justify_items": null,
      "left": null,
      "margin": null,
      "max_height": null,
      "max_width": null,
      "min_height": null,
      "min_width": null,
      "object_fit": null,
      "object_position": null,
      "order": null,
      "overflow": null,
      "overflow_x": null,
      "overflow_y": null,
      "padding": null,
      "right": null,
      "top": null,
      "visibility": null,
      "width": null
     }
    },
    "9ff95e8286dc4e9b8e7f357f0a931bd9": {
     "model_module": "@jupyter-widgets/base",
     "model_module_version": "1.2.0",
     "model_name": "LayoutModel",
     "state": {
      "_model_module": "@jupyter-widgets/base",
      "_model_module_version": "1.2.0",
      "_model_name": "LayoutModel",
      "_view_count": null,
      "_view_module": "@jupyter-widgets/base",
      "_view_module_version": "1.2.0",
      "_view_name": "LayoutView",
      "align_content": null,
      "align_items": null,
      "align_self": null,
      "border": null,
      "bottom": null,
      "display": null,
      "flex": null,
      "flex_flow": null,
      "grid_area": null,
      "grid_auto_columns": null,
      "grid_auto_flow": null,
      "grid_auto_rows": null,
      "grid_column": null,
      "grid_gap": null,
      "grid_row": null,
      "grid_template_areas": null,
      "grid_template_columns": null,
      "grid_template_rows": null,
      "height": null,
      "justify_content": null,
      "justify_items": null,
      "left": null,
      "margin": null,
      "max_height": null,
      "max_width": null,
      "min_height": null,
      "min_width": null,
      "object_fit": null,
      "object_position": null,
      "order": null,
      "overflow": null,
      "overflow_x": null,
      "overflow_y": null,
      "padding": null,
      "right": null,
      "top": null,
      "visibility": null,
      "width": null
     }
    },
    "a8f6af4d82b5476d8dd4de114c9360b1": {
     "model_module": "@jupyter-widgets/controls",
     "model_module_version": "1.5.0",
     "model_name": "HTMLModel",
     "state": {
      "_dom_classes": [],
      "_model_module": "@jupyter-widgets/controls",
      "_model_module_version": "1.5.0",
      "_model_name": "HTMLModel",
      "_view_count": null,
      "_view_module": "@jupyter-widgets/controls",
      "_view_module_version": "1.5.0",
      "_view_name": "HTMLView",
      "description": "",
      "description_tooltip": null,
      "layout": "IPY_MODEL_618134c6af704fe98183ea3321d69c70",
      "placeholder": "​",
      "style": "IPY_MODEL_4947bef33d674d209f71051d6f954f1e",
      "value": "<style type=\"text/css\">\n.pd{\n    font-family: \"Courier New\", Courier, monospace !important;\n    width: 100%;\n    padding: 3px;\n}\n</style>\n\n<p class=pd>\n<b>Model</b>: GP regression<br>\n<b>Objective</b>: nan<br>\n<b>Number of Parameters</b>: 61<br>\n<b>Number of Optimization Parameters</b>: 61<br>\n<b>Updates</b>: True<br>\n</p>\n<style type=\"text/css\">\n.tg  {font-family:\"Courier New\", Courier, monospace !important;padding:2px 3px;word-break:normal;border-collapse:collapse;border-spacing:0;border-color:#DCDCDC;margin:0px auto;width:100%;}\n.tg td{font-family:\"Courier New\", Courier, monospace !important;font-weight:bold;color:#444;background-color:#F7FDFA;border-style:solid;border-width:1px;overflow:hidden;word-break:normal;border-color:#DCDCDC;}\n.tg th{font-family:\"Courier New\", Courier, monospace !important;font-weight:normal;color:#fff;background-color:#26ADE4;border-style:solid;border-width:1px;overflow:hidden;word-break:normal;border-color:#DCDCDC;}\n.tg .tg-left{font-family:\"Courier New\", Courier, monospace !important;font-weight:normal;text-align:left;}\n.tg .tg-center{font-family:\"Courier New\", Courier, monospace !important;font-weight:normal;text-align:center;}\n.tg .tg-right{font-family:\"Courier New\", Courier, monospace !important;font-weight:normal;text-align:right;}\n</style>\n<table class=\"tg\"><tr><th><b>  GP_regression.         </b></th><th><b>value</b></th><th><b>constraints</b></th><th><b>priors</b></th></tr>\n<tr><td class=tg-left>  rbf.variance           </td><td class=tg-right>  1.0</td><td class=tg-center>    +ve    </td><td class=tg-center>      </td></tr>\n<tr><td class=tg-left>  rbf.lengthscale        </td><td class=tg-right>(59,)</td><td class=tg-center>    +ve    </td><td class=tg-center>      </td></tr>\n<tr><td class=tg-left>  Gaussian_noise.variance</td><td class=tg-right>  1.0</td><td class=tg-center>    +ve    </td><td class=tg-center>      </td></tr>\n</table>"
     }
    },
    "b178ec3d10aa42dab77cf07f04e2cbfd": {
     "model_module": "@jupyter-widgets/controls",
     "model_module_version": "1.5.0",
     "model_name": "HBoxModel",
     "state": {
      "_dom_classes": [],
      "_model_module": "@jupyter-widgets/controls",
      "_model_module_version": "1.5.0",
      "_model_name": "HBoxModel",
      "_view_count": null,
      "_view_module": "@jupyter-widgets/controls",
      "_view_module_version": "1.5.0",
      "_view_name": "HBoxView",
      "box_style": "",
      "children": [
       "IPY_MODEL_1daa62b2b3524bafa57e3f9f20d99f57",
       "IPY_MODEL_ce19377bd48649e1af1bbeb9b84c6e54"
      ],
      "layout": "IPY_MODEL_1162b0175425453a914eb60240265516"
     }
    },
    "b381b1aa025f43279acb0608c4b021ad": {
     "model_module": "@jupyter-widgets/controls",
     "model_module_version": "1.5.0",
     "model_name": "HTMLModel",
     "state": {
      "_dom_classes": [],
      "_model_module": "@jupyter-widgets/controls",
      "_model_module_version": "1.5.0",
      "_model_name": "HTMLModel",
      "_view_count": null,
      "_view_module": "@jupyter-widgets/controls",
      "_view_module_version": "1.5.0",
      "_view_name": "HTMLView",
      "description": "",
      "description_tooltip": null,
      "layout": "IPY_MODEL_9ff95e8286dc4e9b8e7f357f0a931bd9",
      "placeholder": "​",
      "style": "IPY_MODEL_bb2de28d86284e6a83dac936dd7a93c1",
      "value": "<style type=\"text/css\">\n    .tg-opt  {font-family:\"Courier New\", Courier, monospace !important;padding:2px 3px;word-break:normal;border-collapse:collapse;border-spacing:0;border-color:#DCDCDC;margin:0px auto;width:100%;}\n    .tg-opt td{font-family:\"Courier New\", Courier, monospace !important;font-weight:bold;color:#444;background-color:#F7FDFA;border-style:solid;border-width:1px;overflow:hidden;word-break:normal;border-color:#DCDCDC;}\n    .tg-opt th{font-family:\"Courier New\", Courier, monospace !important;font-weight:normal;color:#fff;background-color:#26ADE4;border-style:solid;border-width:1px;overflow:hidden;word-break:normal;border-color:#DCDCDC;}\n    .tg-opt .tg-left{font-family:\"Courier New\", Courier, monospace !important;font-weight:normal;text-align:left;}\n    .tg-opt .tg-right{font-family:\"Courier New\", Courier, monospace !important;font-weight:normal;text-align:right;}\n    </style>\n    <table class=\"tg-opt\"><tr><td class='tg-left'>optimizer</td><td class='tg-right'>L-BFGS-B (Scipy implementation)</td></tr><tr><td class='tg-left'>runtime</td><td class='tg-right'>02s95</td></tr><tr><td class='tg-left'>evaluation</td><td class='tg-right'>0042</td></tr><tr><td class='tg-left'>objective</td><td class='tg-right'>         NAN</td></tr><tr><td class='tg-left'>||gradient||</td><td class='tg-right'>        +NAN</td></tr><tr><td class='tg-left'>status</td><td class='tg-right'>ErrorABNORMAL_TERMINATION_IN_LNSRCH</td></tr></table>"
     }
    },
    "bb2de28d86284e6a83dac936dd7a93c1": {
     "model_module": "@jupyter-widgets/controls",
     "model_module_version": "1.5.0",
     "model_name": "DescriptionStyleModel",
     "state": {
      "_model_module": "@jupyter-widgets/controls",
      "_model_module_version": "1.5.0",
      "_model_name": "DescriptionStyleModel",
      "_view_count": null,
      "_view_module": "@jupyter-widgets/base",
      "_view_module_version": "1.2.0",
      "_view_name": "StyleView",
      "description_width": ""
     }
    },
    "c4f32ec2847d40d297e36a2062b7490c": {
     "model_module": "@jupyter-widgets/controls",
     "model_module_version": "1.5.0",
     "model_name": "ProgressStyleModel",
     "state": {
      "_model_module": "@jupyter-widgets/controls",
      "_model_module_version": "1.5.0",
      "_model_name": "ProgressStyleModel",
      "_view_count": null,
      "_view_module": "@jupyter-widgets/base",
      "_view_module_version": "1.2.0",
      "_view_name": "StyleView",
      "bar_color": null,
      "description_width": ""
     }
    },
    "ce19377bd48649e1af1bbeb9b84c6e54": {
     "model_module": "@jupyter-widgets/controls",
     "model_module_version": "1.5.0",
     "model_name": "BoxModel",
     "state": {
      "_dom_classes": [],
      "_model_module": "@jupyter-widgets/controls",
      "_model_module_version": "1.5.0",
      "_model_name": "BoxModel",
      "_view_count": null,
      "_view_module": "@jupyter-widgets/controls",
      "_view_module_version": "1.5.0",
      "_view_name": "BoxView",
      "box_style": "",
      "children": [
       "IPY_MODEL_a8f6af4d82b5476d8dd4de114c9360b1"
      ],
      "layout": "IPY_MODEL_48806562cc4a4eaba350dbb272d34fa9"
     }
    }
   }
  }
 },
 "nbformat": 4,
 "nbformat_minor": 5
}
